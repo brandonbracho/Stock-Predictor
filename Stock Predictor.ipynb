{
 "cells": [
  {
   "cell_type": "markdown",
   "metadata": {},
   "source": [
    "# Stock Closing Price Prediction Using LSTM RNN"
   ]
  },
  {
   "cell_type": "code",
   "execution_count": 2,
   "metadata": {},
   "outputs": [],
   "source": [
    "import csv\n",
    "import pandas as pd \n",
    "import numpy as np\n",
    "import requests\n",
    "from io import StringIO\n",
    "import pandas_datareader as pdd\n",
    "from sklearn.preprocessing import MinMaxScaler, StandardScaler\n",
    "from sklearn.decomposition import PCA\n",
    "from tensorflow.keras.models import Sequential \n",
    "from tensorflow.keras.layers import Dense, LSTM, Dropout\n",
    "from kerastuner.tuners import RandomSearch\n",
    "from kerastuner.engine.hyperparameters import HyperParameters\n",
    "import matplotlib.pyplot as plt\n",
    "import time\n",
    "from datetime import datetime, timedelta\n"
   ]
  },
  {
   "cell_type": "markdown",
   "metadata": {},
   "source": [
    "## Scraping Historical Stock Data from Yahoo Finance "
   ]
  },
  {
   "cell_type": "code",
   "execution_count": 3,
   "metadata": {},
   "outputs": [],
   "source": [
    "#Scrape 5 year 'GOOG' historical data f using an API call\n",
    "stock=\"GOOG\"\n",
    "stock_url=f'https://query1.finance.yahoo.com/v7/finance/download/{stock}?'\n",
    "params={\"range\":\"5y\",\n",
    "        \"interval\":\"1d\",\n",
    "        \"events\":\"history\"}\n",
    "response = requests.get(stock_url,params=params)\n",
    "\n",
    "#Format data into list\n",
    "file= StringIO(response.text)\n",
    "reader= csv.reader(file)\n",
    "data= list(reader)"
   ]
  },
  {
   "cell_type": "code",
   "execution_count": 4,
   "metadata": {},
   "outputs": [],
   "source": [
    "#Format list into Pandas DataFrame\n",
    "df=pd.DataFrame(data, columns=data[0])\n",
    "df.set_index([\"Date\"],drop=True, inplace=True)\n",
    "df.drop(\"Date\",inplace=True)\n",
    "df.index=pd.to_datetime(df.index)\n",
    "#Convert values from strings to floats\n",
    "df=df.apply(pd.to_numeric)"
   ]
  },
  {
   "cell_type": "markdown",
   "metadata": {},
   "source": [
    "## Feature Creation of Stock Indicators "
   ]
  },
  {
   "cell_type": "code",
   "execution_count": 5,
   "metadata": {},
   "outputs": [],
   "source": [
    "#Create the Simple Moving Average (SMA)\n",
    "def SMA(data, length=30, column=\"Close\"):\n",
    "    return data[column].rolling(window=length).mean()\n",
    "\n",
    "#Create the Exponential Moving Average (EMA)\n",
    "def EMA(data, length=20, column='Close'):\n",
    "    return data[column].ewm(span=length, adjust = False).mean()\n",
    "\n",
    "df[\"SMA\"]=SMA(df)\n",
    "df[\"EMA\"]=EMA(df)"
   ]
  },
  {
   "cell_type": "code",
   "execution_count": 6,
   "metadata": {},
   "outputs": [
    {
     "data": {
      "text/html": [
       "<div>\n",
       "<style scoped>\n",
       "    .dataframe tbody tr th:only-of-type {\n",
       "        vertical-align: middle;\n",
       "    }\n",
       "\n",
       "    .dataframe tbody tr th {\n",
       "        vertical-align: top;\n",
       "    }\n",
       "\n",
       "    .dataframe thead th {\n",
       "        text-align: right;\n",
       "    }\n",
       "</style>\n",
       "<table border=\"1\" class=\"dataframe\">\n",
       "  <thead>\n",
       "    <tr style=\"text-align: right;\">\n",
       "      <th></th>\n",
       "      <th>Open</th>\n",
       "      <th>High</th>\n",
       "      <th>Low</th>\n",
       "      <th>Close</th>\n",
       "      <th>Adj Close</th>\n",
       "      <th>Volume</th>\n",
       "      <th>SMA</th>\n",
       "      <th>EMA</th>\n",
       "      <th>RSI</th>\n",
       "    </tr>\n",
       "    <tr>\n",
       "      <th>Date</th>\n",
       "      <th></th>\n",
       "      <th></th>\n",
       "      <th></th>\n",
       "      <th></th>\n",
       "      <th></th>\n",
       "      <th></th>\n",
       "      <th></th>\n",
       "      <th></th>\n",
       "      <th></th>\n",
       "    </tr>\n",
       "  </thead>\n",
       "  <tbody>\n",
       "    <tr>\n",
       "      <th>2016-02-22</th>\n",
       "      <td>707.450012</td>\n",
       "      <td>713.239990</td>\n",
       "      <td>702.510010</td>\n",
       "      <td>706.460022</td>\n",
       "      <td>706.460022</td>\n",
       "      <td>1949800</td>\n",
       "      <td>NaN</td>\n",
       "      <td>706.460022</td>\n",
       "      <td>NaN</td>\n",
       "    </tr>\n",
       "    <tr>\n",
       "      <th>2016-02-23</th>\n",
       "      <td>701.450012</td>\n",
       "      <td>708.400024</td>\n",
       "      <td>693.580017</td>\n",
       "      <td>695.849976</td>\n",
       "      <td>695.849976</td>\n",
       "      <td>2009300</td>\n",
       "      <td>NaN</td>\n",
       "      <td>705.449541</td>\n",
       "      <td>NaN</td>\n",
       "    </tr>\n",
       "    <tr>\n",
       "      <th>2016-02-24</th>\n",
       "      <td>688.919983</td>\n",
       "      <td>700.000000</td>\n",
       "      <td>680.780029</td>\n",
       "      <td>699.559998</td>\n",
       "      <td>699.559998</td>\n",
       "      <td>1963600</td>\n",
       "      <td>NaN</td>\n",
       "      <td>704.888633</td>\n",
       "      <td>NaN</td>\n",
       "    </tr>\n",
       "    <tr>\n",
       "      <th>2016-02-25</th>\n",
       "      <td>700.010010</td>\n",
       "      <td>705.979980</td>\n",
       "      <td>690.585022</td>\n",
       "      <td>705.750000</td>\n",
       "      <td>705.750000</td>\n",
       "      <td>1642200</td>\n",
       "      <td>NaN</td>\n",
       "      <td>704.970668</td>\n",
       "      <td>NaN</td>\n",
       "    </tr>\n",
       "    <tr>\n",
       "      <th>2016-02-26</th>\n",
       "      <td>708.580017</td>\n",
       "      <td>713.429993</td>\n",
       "      <td>700.859985</td>\n",
       "      <td>705.070007</td>\n",
       "      <td>705.070007</td>\n",
       "      <td>2243500</td>\n",
       "      <td>NaN</td>\n",
       "      <td>704.980128</td>\n",
       "      <td>NaN</td>\n",
       "    </tr>\n",
       "    <tr>\n",
       "      <th>...</th>\n",
       "      <td>...</td>\n",
       "      <td>...</td>\n",
       "      <td>...</td>\n",
       "      <td>...</td>\n",
       "      <td>...</td>\n",
       "      <td>...</td>\n",
       "      <td>...</td>\n",
       "      <td>...</td>\n",
       "      <td>...</td>\n",
       "    </tr>\n",
       "    <tr>\n",
       "      <th>2021-02-16</th>\n",
       "      <td>2104.360107</td>\n",
       "      <td>2152.679932</td>\n",
       "      <td>2104.360107</td>\n",
       "      <td>2121.899902</td>\n",
       "      <td>2121.899902</td>\n",
       "      <td>1132900</td>\n",
       "      <td>1900.409668</td>\n",
       "      <td>1990.944675</td>\n",
       "      <td>71.467237</td>\n",
       "    </tr>\n",
       "    <tr>\n",
       "      <th>2021-02-17</th>\n",
       "      <td>2100.000000</td>\n",
       "      <td>2133.659912</td>\n",
       "      <td>2098.919922</td>\n",
       "      <td>2128.310059</td>\n",
       "      <td>2128.310059</td>\n",
       "      <td>1070100</td>\n",
       "      <td>1913.745337</td>\n",
       "      <td>2004.027093</td>\n",
       "      <td>87.505055</td>\n",
       "    </tr>\n",
       "    <tr>\n",
       "      <th>2021-02-18</th>\n",
       "      <td>2110.389893</td>\n",
       "      <td>2132.735107</td>\n",
       "      <td>2103.709961</td>\n",
       "      <td>2117.199951</td>\n",
       "      <td>2117.199951</td>\n",
       "      <td>1121600</td>\n",
       "      <td>1926.288000</td>\n",
       "      <td>2014.805460</td>\n",
       "      <td>83.839854</td>\n",
       "    </tr>\n",
       "    <tr>\n",
       "      <th>2021-02-19</th>\n",
       "      <td>2119.270020</td>\n",
       "      <td>2130.530029</td>\n",
       "      <td>2097.409912</td>\n",
       "      <td>2101.139893</td>\n",
       "      <td>2101.139893</td>\n",
       "      <td>1457400</td>\n",
       "      <td>1938.482996</td>\n",
       "      <td>2023.027787</td>\n",
       "      <td>86.444004</td>\n",
       "    </tr>\n",
       "    <tr>\n",
       "      <th>2021-02-22</th>\n",
       "      <td>2067.000000</td>\n",
       "      <td>2090.000000</td>\n",
       "      <td>2062.139893</td>\n",
       "      <td>2085.428467</td>\n",
       "      <td>2085.428467</td>\n",
       "      <td>738954</td>\n",
       "      <td>1948.422278</td>\n",
       "      <td>2028.970709</td>\n",
       "      <td>79.291194</td>\n",
       "    </tr>\n",
       "  </tbody>\n",
       "</table>\n",
       "<p>1260 rows × 9 columns</p>\n",
       "</div>"
      ],
      "text/plain": [
       "                   Open         High          Low        Close    Adj Close  \\\n",
       "Date                                                                          \n",
       "2016-02-22   707.450012   713.239990   702.510010   706.460022   706.460022   \n",
       "2016-02-23   701.450012   708.400024   693.580017   695.849976   695.849976   \n",
       "2016-02-24   688.919983   700.000000   680.780029   699.559998   699.559998   \n",
       "2016-02-25   700.010010   705.979980   690.585022   705.750000   705.750000   \n",
       "2016-02-26   708.580017   713.429993   700.859985   705.070007   705.070007   \n",
       "...                 ...          ...          ...          ...          ...   \n",
       "2021-02-16  2104.360107  2152.679932  2104.360107  2121.899902  2121.899902   \n",
       "2021-02-17  2100.000000  2133.659912  2098.919922  2128.310059  2128.310059   \n",
       "2021-02-18  2110.389893  2132.735107  2103.709961  2117.199951  2117.199951   \n",
       "2021-02-19  2119.270020  2130.530029  2097.409912  2101.139893  2101.139893   \n",
       "2021-02-22  2067.000000  2090.000000  2062.139893  2085.428467  2085.428467   \n",
       "\n",
       "             Volume          SMA          EMA        RSI  \n",
       "Date                                                      \n",
       "2016-02-22  1949800          NaN   706.460022        NaN  \n",
       "2016-02-23  2009300          NaN   705.449541        NaN  \n",
       "2016-02-24  1963600          NaN   704.888633        NaN  \n",
       "2016-02-25  1642200          NaN   704.970668        NaN  \n",
       "2016-02-26  2243500          NaN   704.980128        NaN  \n",
       "...             ...          ...          ...        ...  \n",
       "2021-02-16  1132900  1900.409668  1990.944675  71.467237  \n",
       "2021-02-17  1070100  1913.745337  2004.027093  87.505055  \n",
       "2021-02-18  1121600  1926.288000  2014.805460  83.839854  \n",
       "2021-02-19  1457400  1938.482996  2023.027787  86.444004  \n",
       "2021-02-22   738954  1948.422278  2028.970709  79.291194  \n",
       "\n",
       "[1260 rows x 9 columns]"
      ]
     },
     "execution_count": 6,
     "metadata": {},
     "output_type": "execute_result"
    }
   ],
   "source": [
    "# Add Relative Strength Index (RSI) to dataframe\n",
    "def RSI(data, length=14):\n",
    "    difference = data[\"Close\"].diff(1)\n",
    "    difference = difference[1:]\n",
    "    positive = difference.copy()\n",
    "    negative = difference.copy()\n",
    "    positive[positive < 0] = 0\n",
    "    negative[negative > 0] = 0\n",
    "    data[\"positive\"] = positive \n",
    "    data[\"negative\"] = negative \n",
    "    average_gain = SMA(data, length, column=\"positive\")\n",
    "    average_loss = abs(SMA(data, length, column =\"negative\"))\n",
    "    rs = average_gain/ average_loss\n",
    "    RSI = 100.0 - (100.0/(1.0 + rs))\n",
    "    data[\"RSI\"] = RSI\n",
    "    data.drop([\"positive\", \"negative\"], axis=1, inplace=True)\n",
    "    return data\n",
    "    \n",
    "    \n",
    "RSI(df)"
   ]
  },
  {
   "cell_type": "code",
   "execution_count": 7,
   "metadata": {},
   "outputs": [
    {
     "data": {
      "text/html": [
       "<div>\n",
       "<style scoped>\n",
       "    .dataframe tbody tr th:only-of-type {\n",
       "        vertical-align: middle;\n",
       "    }\n",
       "\n",
       "    .dataframe tbody tr th {\n",
       "        vertical-align: top;\n",
       "    }\n",
       "\n",
       "    .dataframe thead th {\n",
       "        text-align: right;\n",
       "    }\n",
       "</style>\n",
       "<table border=\"1\" class=\"dataframe\">\n",
       "  <thead>\n",
       "    <tr style=\"text-align: right;\">\n",
       "      <th></th>\n",
       "      <th>Open</th>\n",
       "      <th>High</th>\n",
       "      <th>Low</th>\n",
       "      <th>Close</th>\n",
       "      <th>Adj Close</th>\n",
       "      <th>Volume</th>\n",
       "      <th>SMA</th>\n",
       "      <th>EMA</th>\n",
       "      <th>RSI</th>\n",
       "      <th>MACD</th>\n",
       "      <th>Signal</th>\n",
       "    </tr>\n",
       "    <tr>\n",
       "      <th>Date</th>\n",
       "      <th></th>\n",
       "      <th></th>\n",
       "      <th></th>\n",
       "      <th></th>\n",
       "      <th></th>\n",
       "      <th></th>\n",
       "      <th></th>\n",
       "      <th></th>\n",
       "      <th></th>\n",
       "      <th></th>\n",
       "      <th></th>\n",
       "    </tr>\n",
       "  </thead>\n",
       "  <tbody>\n",
       "    <tr>\n",
       "      <th>2016-02-22</th>\n",
       "      <td>707.450012</td>\n",
       "      <td>713.239990</td>\n",
       "      <td>702.510010</td>\n",
       "      <td>706.460022</td>\n",
       "      <td>706.460022</td>\n",
       "      <td>1949800</td>\n",
       "      <td>NaN</td>\n",
       "      <td>706.460022</td>\n",
       "      <td>NaN</td>\n",
       "      <td>0.000000</td>\n",
       "      <td>0.000000</td>\n",
       "    </tr>\n",
       "    <tr>\n",
       "      <th>2016-02-23</th>\n",
       "      <td>701.450012</td>\n",
       "      <td>708.400024</td>\n",
       "      <td>693.580017</td>\n",
       "      <td>695.849976</td>\n",
       "      <td>695.849976</td>\n",
       "      <td>2009300</td>\n",
       "      <td>NaN</td>\n",
       "      <td>705.449541</td>\n",
       "      <td>NaN</td>\n",
       "      <td>-0.846385</td>\n",
       "      <td>-0.169277</td>\n",
       "    </tr>\n",
       "    <tr>\n",
       "      <th>2016-02-24</th>\n",
       "      <td>688.919983</td>\n",
       "      <td>700.000000</td>\n",
       "      <td>680.780029</td>\n",
       "      <td>699.559998</td>\n",
       "      <td>699.559998</td>\n",
       "      <td>1963600</td>\n",
       "      <td>NaN</td>\n",
       "      <td>704.888633</td>\n",
       "      <td>NaN</td>\n",
       "      <td>-1.203906</td>\n",
       "      <td>-0.376203</td>\n",
       "    </tr>\n",
       "    <tr>\n",
       "      <th>2016-02-25</th>\n",
       "      <td>700.010010</td>\n",
       "      <td>705.979980</td>\n",
       "      <td>690.585022</td>\n",
       "      <td>705.750000</td>\n",
       "      <td>705.750000</td>\n",
       "      <td>1642200</td>\n",
       "      <td>NaN</td>\n",
       "      <td>704.970668</td>\n",
       "      <td>NaN</td>\n",
       "      <td>-0.976506</td>\n",
       "      <td>-0.496264</td>\n",
       "    </tr>\n",
       "    <tr>\n",
       "      <th>2016-02-26</th>\n",
       "      <td>708.580017</td>\n",
       "      <td>713.429993</td>\n",
       "      <td>700.859985</td>\n",
       "      <td>705.070007</td>\n",
       "      <td>705.070007</td>\n",
       "      <td>2243500</td>\n",
       "      <td>NaN</td>\n",
       "      <td>704.980128</td>\n",
       "      <td>NaN</td>\n",
       "      <td>-0.841460</td>\n",
       "      <td>-0.565303</td>\n",
       "    </tr>\n",
       "    <tr>\n",
       "      <th>...</th>\n",
       "      <td>...</td>\n",
       "      <td>...</td>\n",
       "      <td>...</td>\n",
       "      <td>...</td>\n",
       "      <td>...</td>\n",
       "      <td>...</td>\n",
       "      <td>...</td>\n",
       "      <td>...</td>\n",
       "      <td>...</td>\n",
       "      <td>...</td>\n",
       "      <td>...</td>\n",
       "    </tr>\n",
       "    <tr>\n",
       "      <th>2021-02-16</th>\n",
       "      <td>2104.360107</td>\n",
       "      <td>2152.679932</td>\n",
       "      <td>2104.360107</td>\n",
       "      <td>2121.899902</td>\n",
       "      <td>2121.899902</td>\n",
       "      <td>1132900</td>\n",
       "      <td>1900.409668</td>\n",
       "      <td>1990.944675</td>\n",
       "      <td>71.467237</td>\n",
       "      <td>85.438989</td>\n",
       "      <td>73.208216</td>\n",
       "    </tr>\n",
       "    <tr>\n",
       "      <th>2021-02-17</th>\n",
       "      <td>2100.000000</td>\n",
       "      <td>2133.659912</td>\n",
       "      <td>2098.919922</td>\n",
       "      <td>2128.310059</td>\n",
       "      <td>2128.310059</td>\n",
       "      <td>1070100</td>\n",
       "      <td>1913.745337</td>\n",
       "      <td>2004.027093</td>\n",
       "      <td>87.505055</td>\n",
       "      <td>85.736026</td>\n",
       "      <td>75.713778</td>\n",
       "    </tr>\n",
       "    <tr>\n",
       "      <th>2021-02-18</th>\n",
       "      <td>2110.389893</td>\n",
       "      <td>2132.735107</td>\n",
       "      <td>2103.709961</td>\n",
       "      <td>2117.199951</td>\n",
       "      <td>2117.199951</td>\n",
       "      <td>1121600</td>\n",
       "      <td>1926.288000</td>\n",
       "      <td>2014.805460</td>\n",
       "      <td>83.839854</td>\n",
       "      <td>84.105422</td>\n",
       "      <td>77.392107</td>\n",
       "    </tr>\n",
       "    <tr>\n",
       "      <th>2021-02-19</th>\n",
       "      <td>2119.270020</td>\n",
       "      <td>2130.530029</td>\n",
       "      <td>2097.409912</td>\n",
       "      <td>2101.139893</td>\n",
       "      <td>2101.139893</td>\n",
       "      <td>1457400</td>\n",
       "      <td>1938.482996</td>\n",
       "      <td>2023.027787</td>\n",
       "      <td>86.444004</td>\n",
       "      <td>80.588272</td>\n",
       "      <td>78.031340</td>\n",
       "    </tr>\n",
       "    <tr>\n",
       "      <th>2021-02-22</th>\n",
       "      <td>2067.000000</td>\n",
       "      <td>2090.000000</td>\n",
       "      <td>2062.139893</td>\n",
       "      <td>2085.428467</td>\n",
       "      <td>2085.428467</td>\n",
       "      <td>738954</td>\n",
       "      <td>1948.422278</td>\n",
       "      <td>2028.970709</td>\n",
       "      <td>79.291194</td>\n",
       "      <td>75.660953</td>\n",
       "      <td>77.557262</td>\n",
       "    </tr>\n",
       "  </tbody>\n",
       "</table>\n",
       "<p>1260 rows × 11 columns</p>\n",
       "</div>"
      ],
      "text/plain": [
       "                   Open         High          Low        Close    Adj Close  \\\n",
       "Date                                                                          \n",
       "2016-02-22   707.450012   713.239990   702.510010   706.460022   706.460022   \n",
       "2016-02-23   701.450012   708.400024   693.580017   695.849976   695.849976   \n",
       "2016-02-24   688.919983   700.000000   680.780029   699.559998   699.559998   \n",
       "2016-02-25   700.010010   705.979980   690.585022   705.750000   705.750000   \n",
       "2016-02-26   708.580017   713.429993   700.859985   705.070007   705.070007   \n",
       "...                 ...          ...          ...          ...          ...   \n",
       "2021-02-16  2104.360107  2152.679932  2104.360107  2121.899902  2121.899902   \n",
       "2021-02-17  2100.000000  2133.659912  2098.919922  2128.310059  2128.310059   \n",
       "2021-02-18  2110.389893  2132.735107  2103.709961  2117.199951  2117.199951   \n",
       "2021-02-19  2119.270020  2130.530029  2097.409912  2101.139893  2101.139893   \n",
       "2021-02-22  2067.000000  2090.000000  2062.139893  2085.428467  2085.428467   \n",
       "\n",
       "             Volume          SMA          EMA        RSI       MACD     Signal  \n",
       "Date                                                                            \n",
       "2016-02-22  1949800          NaN   706.460022        NaN   0.000000   0.000000  \n",
       "2016-02-23  2009300          NaN   705.449541        NaN  -0.846385  -0.169277  \n",
       "2016-02-24  1963600          NaN   704.888633        NaN  -1.203906  -0.376203  \n",
       "2016-02-25  1642200          NaN   704.970668        NaN  -0.976506  -0.496264  \n",
       "2016-02-26  2243500          NaN   704.980128        NaN  -0.841460  -0.565303  \n",
       "...             ...          ...          ...        ...        ...        ...  \n",
       "2021-02-16  1132900  1900.409668  1990.944675  71.467237  85.438989  73.208216  \n",
       "2021-02-17  1070100  1913.745337  2004.027093  87.505055  85.736026  75.713778  \n",
       "2021-02-18  1121600  1926.288000  2014.805460  83.839854  84.105422  77.392107  \n",
       "2021-02-19  1457400  1938.482996  2023.027787  86.444004  80.588272  78.031340  \n",
       "2021-02-22   738954  1948.422278  2028.970709  79.291194  75.660953  77.557262  \n",
       "\n",
       "[1260 rows x 11 columns]"
      ]
     },
     "execution_count": 7,
     "metadata": {},
     "output_type": "execute_result"
    }
   ],
   "source": [
    "#Calculate Moving Average Convergence/Divergence (MACD)\n",
    "def MACD(data, length_long=26, length_short=12, length_signal=9, column=\"Close\"):\n",
    "    short = EMA(data,length_short, column=column)\n",
    "    long = EMA(data, length_long, column=column)\n",
    "    data[\"MACD\"] = short - long\n",
    "    data[\"Signal\"] = EMA(data, length_signal, column=\"MACD\")\n",
    "    \n",
    "    return data\n",
    "MACD(df)"
   ]
  },
  {
   "cell_type": "code",
   "execution_count": 8,
   "metadata": {},
   "outputs": [],
   "source": [
    "#Drop all rows with NaN values\n",
    "df.dropna(inplace=True)"
   ]
  },
  {
   "cell_type": "markdown",
   "metadata": {},
   "source": [
    "## Principal Component Analysis "
   ]
  },
  {
   "cell_type": "code",
   "execution_count": 11,
   "metadata": {},
   "outputs": [
    {
     "data": {
      "text/html": [
       "<div>\n",
       "<style scoped>\n",
       "    .dataframe tbody tr th:only-of-type {\n",
       "        vertical-align: middle;\n",
       "    }\n",
       "\n",
       "    .dataframe tbody tr th {\n",
       "        vertical-align: top;\n",
       "    }\n",
       "\n",
       "    .dataframe thead th {\n",
       "        text-align: right;\n",
       "    }\n",
       "</style>\n",
       "<table border=\"1\" class=\"dataframe\">\n",
       "  <thead>\n",
       "    <tr style=\"text-align: right;\">\n",
       "      <th></th>\n",
       "      <th>Open</th>\n",
       "      <th>High</th>\n",
       "      <th>Low</th>\n",
       "      <th>Close</th>\n",
       "      <th>Adj Close</th>\n",
       "      <th>Volume</th>\n",
       "      <th>SMA</th>\n",
       "      <th>EMA</th>\n",
       "      <th>RSI</th>\n",
       "      <th>MACD</th>\n",
       "      <th>Signal</th>\n",
       "    </tr>\n",
       "    <tr>\n",
       "      <th>Date</th>\n",
       "      <th></th>\n",
       "      <th></th>\n",
       "      <th></th>\n",
       "      <th></th>\n",
       "      <th></th>\n",
       "      <th></th>\n",
       "      <th></th>\n",
       "      <th></th>\n",
       "      <th></th>\n",
       "      <th></th>\n",
       "      <th></th>\n",
       "    </tr>\n",
       "  </thead>\n",
       "  <tbody>\n",
       "    <tr>\n",
       "      <th>2016-04-04</th>\n",
       "      <td>750.059998</td>\n",
       "      <td>752.799988</td>\n",
       "      <td>742.429993</td>\n",
       "      <td>745.289978</td>\n",
       "      <td>745.289978</td>\n",
       "      <td>1134200</td>\n",
       "      <td>723.363668</td>\n",
       "      <td>734.280929</td>\n",
       "      <td>62.982432</td>\n",
       "      <td>9.549177</td>\n",
       "      <td>8.743968</td>\n",
       "    </tr>\n",
       "    <tr>\n",
       "      <th>2016-04-05</th>\n",
       "      <td>738.000000</td>\n",
       "      <td>742.799988</td>\n",
       "      <td>735.369995</td>\n",
       "      <td>737.799988</td>\n",
       "      <td>737.799988</td>\n",
       "      <td>1132300</td>\n",
       "      <td>724.408333</td>\n",
       "      <td>734.616078</td>\n",
       "      <td>57.596630</td>\n",
       "      <td>8.645569</td>\n",
       "      <td>8.724288</td>\n",
       "    </tr>\n",
       "    <tr>\n",
       "      <th>2016-04-06</th>\n",
       "      <td>735.770020</td>\n",
       "      <td>746.239990</td>\n",
       "      <td>735.559998</td>\n",
       "      <td>745.690002</td>\n",
       "      <td>745.690002</td>\n",
       "      <td>1053700</td>\n",
       "      <td>726.069668</td>\n",
       "      <td>735.670737</td>\n",
       "      <td>57.684888</td>\n",
       "      <td>8.468491</td>\n",
       "      <td>8.673129</td>\n",
       "    </tr>\n",
       "    <tr>\n",
       "      <th>2016-04-07</th>\n",
       "      <td>745.369995</td>\n",
       "      <td>747.000000</td>\n",
       "      <td>736.280029</td>\n",
       "      <td>740.280029</td>\n",
       "      <td>740.280029</td>\n",
       "      <td>1453200</td>\n",
       "      <td>727.427002</td>\n",
       "      <td>736.109717</td>\n",
       "      <td>51.888787</td>\n",
       "      <td>7.801683</td>\n",
       "      <td>8.498840</td>\n",
       "    </tr>\n",
       "    <tr>\n",
       "      <th>2016-04-08</th>\n",
       "      <td>743.969971</td>\n",
       "      <td>745.450012</td>\n",
       "      <td>735.549988</td>\n",
       "      <td>739.150024</td>\n",
       "      <td>739.150024</td>\n",
       "      <td>1290800</td>\n",
       "      <td>728.540336</td>\n",
       "      <td>736.399270</td>\n",
       "      <td>51.154512</td>\n",
       "      <td>7.100204</td>\n",
       "      <td>8.219112</td>\n",
       "    </tr>\n",
       "    <tr>\n",
       "      <th>...</th>\n",
       "      <td>...</td>\n",
       "      <td>...</td>\n",
       "      <td>...</td>\n",
       "      <td>...</td>\n",
       "      <td>...</td>\n",
       "      <td>...</td>\n",
       "      <td>...</td>\n",
       "      <td>...</td>\n",
       "      <td>...</td>\n",
       "      <td>...</td>\n",
       "      <td>...</td>\n",
       "    </tr>\n",
       "    <tr>\n",
       "      <th>2021-02-16</th>\n",
       "      <td>2104.360107</td>\n",
       "      <td>2152.679932</td>\n",
       "      <td>2104.360107</td>\n",
       "      <td>2121.899902</td>\n",
       "      <td>2121.899902</td>\n",
       "      <td>1132900</td>\n",
       "      <td>1900.409668</td>\n",
       "      <td>1990.944675</td>\n",
       "      <td>71.467237</td>\n",
       "      <td>85.438989</td>\n",
       "      <td>73.208216</td>\n",
       "    </tr>\n",
       "    <tr>\n",
       "      <th>2021-02-17</th>\n",
       "      <td>2100.000000</td>\n",
       "      <td>2133.659912</td>\n",
       "      <td>2098.919922</td>\n",
       "      <td>2128.310059</td>\n",
       "      <td>2128.310059</td>\n",
       "      <td>1070100</td>\n",
       "      <td>1913.745337</td>\n",
       "      <td>2004.027093</td>\n",
       "      <td>87.505055</td>\n",
       "      <td>85.736026</td>\n",
       "      <td>75.713778</td>\n",
       "    </tr>\n",
       "    <tr>\n",
       "      <th>2021-02-18</th>\n",
       "      <td>2110.389893</td>\n",
       "      <td>2132.735107</td>\n",
       "      <td>2103.709961</td>\n",
       "      <td>2117.199951</td>\n",
       "      <td>2117.199951</td>\n",
       "      <td>1121600</td>\n",
       "      <td>1926.288000</td>\n",
       "      <td>2014.805460</td>\n",
       "      <td>83.839854</td>\n",
       "      <td>84.105422</td>\n",
       "      <td>77.392107</td>\n",
       "    </tr>\n",
       "    <tr>\n",
       "      <th>2021-02-19</th>\n",
       "      <td>2119.270020</td>\n",
       "      <td>2130.530029</td>\n",
       "      <td>2097.409912</td>\n",
       "      <td>2101.139893</td>\n",
       "      <td>2101.139893</td>\n",
       "      <td>1457400</td>\n",
       "      <td>1938.482996</td>\n",
       "      <td>2023.027787</td>\n",
       "      <td>86.444004</td>\n",
       "      <td>80.588272</td>\n",
       "      <td>78.031340</td>\n",
       "    </tr>\n",
       "    <tr>\n",
       "      <th>2021-02-22</th>\n",
       "      <td>2067.000000</td>\n",
       "      <td>2090.000000</td>\n",
       "      <td>2062.139893</td>\n",
       "      <td>2085.428467</td>\n",
       "      <td>2085.428467</td>\n",
       "      <td>738954</td>\n",
       "      <td>1948.422278</td>\n",
       "      <td>2028.970709</td>\n",
       "      <td>79.291194</td>\n",
       "      <td>75.660953</td>\n",
       "      <td>77.557262</td>\n",
       "    </tr>\n",
       "  </tbody>\n",
       "</table>\n",
       "<p>1231 rows × 11 columns</p>\n",
       "</div>"
      ],
      "text/plain": [
       "                   Open         High          Low        Close    Adj Close  \\\n",
       "Date                                                                          \n",
       "2016-04-04   750.059998   752.799988   742.429993   745.289978   745.289978   \n",
       "2016-04-05   738.000000   742.799988   735.369995   737.799988   737.799988   \n",
       "2016-04-06   735.770020   746.239990   735.559998   745.690002   745.690002   \n",
       "2016-04-07   745.369995   747.000000   736.280029   740.280029   740.280029   \n",
       "2016-04-08   743.969971   745.450012   735.549988   739.150024   739.150024   \n",
       "...                 ...          ...          ...          ...          ...   \n",
       "2021-02-16  2104.360107  2152.679932  2104.360107  2121.899902  2121.899902   \n",
       "2021-02-17  2100.000000  2133.659912  2098.919922  2128.310059  2128.310059   \n",
       "2021-02-18  2110.389893  2132.735107  2103.709961  2117.199951  2117.199951   \n",
       "2021-02-19  2119.270020  2130.530029  2097.409912  2101.139893  2101.139893   \n",
       "2021-02-22  2067.000000  2090.000000  2062.139893  2085.428467  2085.428467   \n",
       "\n",
       "             Volume          SMA          EMA        RSI       MACD     Signal  \n",
       "Date                                                                            \n",
       "2016-04-04  1134200   723.363668   734.280929  62.982432   9.549177   8.743968  \n",
       "2016-04-05  1132300   724.408333   734.616078  57.596630   8.645569   8.724288  \n",
       "2016-04-06  1053700   726.069668   735.670737  57.684888   8.468491   8.673129  \n",
       "2016-04-07  1453200   727.427002   736.109717  51.888787   7.801683   8.498840  \n",
       "2016-04-08  1290800   728.540336   736.399270  51.154512   7.100204   8.219112  \n",
       "...             ...          ...          ...        ...        ...        ...  \n",
       "2021-02-16  1132900  1900.409668  1990.944675  71.467237  85.438989  73.208216  \n",
       "2021-02-17  1070100  1913.745337  2004.027093  87.505055  85.736026  75.713778  \n",
       "2021-02-18  1121600  1926.288000  2014.805460  83.839854  84.105422  77.392107  \n",
       "2021-02-19  1457400  1938.482996  2023.027787  86.444004  80.588272  78.031340  \n",
       "2021-02-22   738954  1948.422278  2028.970709  79.291194  75.660953  77.557262  \n",
       "\n",
       "[1231 rows x 11 columns]"
      ]
     },
     "execution_count": 11,
     "metadata": {},
     "output_type": "execute_result"
    }
   ],
   "source": [
    "#Using PCA to attempt feature selection\n",
    "total_x=np.array(df.loc[:,[\"Open\",\"High\",\"Low\",\"Close\",\"Volume\",\"SMA\",\"EMA\",\"RSI\",\"MACD\",\"Signal\"]])\n",
    "x_normalized = StandardScaler().fit_transform(total_x)\n",
    "pca= PCA(n_components=10).fit(x_normalized)\n",
    "\n",
    "n_pcs= pca.components_.shape[0]\n",
    "\n",
    "# Get the index of the most important feature on each component\n",
    "most_important = [np.abs(pca.components_[i]).argmax() for i in range(n_pcs)]\n",
    "\n",
    "#Feature names in order \n",
    "initial_feature_names = [\"Open\",\"High\",\"Low\",\"Close\",\"Volume\",\"SMA\",\"EMA\",\"RSI\",\"MACD\",\"Signal\"]\n",
    "# Get the names \n",
    "most_important_names = [initial_feature_names[most_important[i]] for i in range(n_pcs)]\n",
    "\n",
    "\n",
    "dic = {'PC{}'.format(i): most_important_names[i] for i in range(n_pcs)}\n",
    "\n",
    "# Return a DataFrame sorted by PC\n",
    "df2 = pd.DataFrame(dic.items())\n",
    "\n",
    "\n",
    "df"
   ]
  },
  {
   "cell_type": "code",
   "execution_count": 12,
   "metadata": {},
   "outputs": [
    {
     "data": {
      "text/html": [
       "<div>\n",
       "<style scoped>\n",
       "    .dataframe tbody tr th:only-of-type {\n",
       "        vertical-align: middle;\n",
       "    }\n",
       "\n",
       "    .dataframe tbody tr th {\n",
       "        vertical-align: top;\n",
       "    }\n",
       "\n",
       "    .dataframe thead th {\n",
       "        text-align: right;\n",
       "    }\n",
       "</style>\n",
       "<table border=\"1\" class=\"dataframe\">\n",
       "  <thead>\n",
       "    <tr style=\"text-align: right;\">\n",
       "      <th></th>\n",
       "      <th>0</th>\n",
       "      <th>1</th>\n",
       "    </tr>\n",
       "  </thead>\n",
       "  <tbody>\n",
       "    <tr>\n",
       "      <th>0</th>\n",
       "      <td>PC0</td>\n",
       "      <td>Low</td>\n",
       "    </tr>\n",
       "    <tr>\n",
       "      <th>1</th>\n",
       "      <td>PC1</td>\n",
       "      <td>MACD</td>\n",
       "    </tr>\n",
       "    <tr>\n",
       "      <th>2</th>\n",
       "      <td>PC2</td>\n",
       "      <td>Volume</td>\n",
       "    </tr>\n",
       "    <tr>\n",
       "      <th>3</th>\n",
       "      <td>PC3</td>\n",
       "      <td>RSI</td>\n",
       "    </tr>\n",
       "    <tr>\n",
       "      <th>4</th>\n",
       "      <td>PC4</td>\n",
       "      <td>MACD</td>\n",
       "    </tr>\n",
       "    <tr>\n",
       "      <th>5</th>\n",
       "      <td>PC5</td>\n",
       "      <td>EMA</td>\n",
       "    </tr>\n",
       "    <tr>\n",
       "      <th>6</th>\n",
       "      <td>PC6</td>\n",
       "      <td>Open</td>\n",
       "    </tr>\n",
       "    <tr>\n",
       "      <th>7</th>\n",
       "      <td>PC7</td>\n",
       "      <td>Low</td>\n",
       "    </tr>\n",
       "    <tr>\n",
       "      <th>8</th>\n",
       "      <td>PC8</td>\n",
       "      <td>EMA</td>\n",
       "    </tr>\n",
       "    <tr>\n",
       "      <th>9</th>\n",
       "      <td>PC9</td>\n",
       "      <td>High</td>\n",
       "    </tr>\n",
       "  </tbody>\n",
       "</table>\n",
       "</div>"
      ],
      "text/plain": [
       "     0       1\n",
       "0  PC0     Low\n",
       "1  PC1    MACD\n",
       "2  PC2  Volume\n",
       "3  PC3     RSI\n",
       "4  PC4    MACD\n",
       "5  PC5     EMA\n",
       "6  PC6    Open\n",
       "7  PC7     Low\n",
       "8  PC8     EMA\n",
       "9  PC9    High"
      ]
     },
     "execution_count": 12,
     "metadata": {},
     "output_type": "execute_result"
    }
   ],
   "source": [
    "#List of Principal Components sorted from most important to least.\n",
    "df2"
   ]
  },
  {
   "cell_type": "code",
   "execution_count": 13,
   "metadata": {},
   "outputs": [],
   "source": [
    "#Adds last 5 principle components to a list if they were not included in the first 5. \n",
    "drop_list=[h for h in df.columns if h in df2[1][-5:].values and h not in df2[1][:-5].values]"
   ]
  },
  {
   "cell_type": "code",
   "execution_count": 14,
   "metadata": {},
   "outputs": [],
   "source": [
    "if \"Adj Close\" not in drop_list:\n",
    "    drop_list.append(\"Adj Close\")"
   ]
  },
  {
   "cell_type": "markdown",
   "metadata": {},
   "source": [
    "## LSTM Model Creation, Training, Optimization and Plotting"
   ]
  },
  {
   "cell_type": "code",
   "execution_count": 15,
   "metadata": {},
   "outputs": [],
   "source": [
    "#Any data after 1-1-2021 will be used as testing data and data before will be used as training data. \n",
    "training_data = df[df.index <'2021-01-01']\n",
    "test_data = df[df.index >= '2021-01-01']"
   ]
  },
  {
   "cell_type": "code",
   "execution_count": 22,
   "metadata": {},
   "outputs": [
    {
     "name": "stdout",
     "output_type": "stream",
     "text": [
      "WARNING:tensorflow:Unresolved object in checkpoint: (root).optimizer.iter\n",
      "WARNING:tensorflow:Unresolved object in checkpoint: (root).optimizer.beta_1\n",
      "WARNING:tensorflow:Unresolved object in checkpoint: (root).optimizer.beta_2\n",
      "WARNING:tensorflow:Unresolved object in checkpoint: (root).optimizer.decay\n",
      "WARNING:tensorflow:Unresolved object in checkpoint: (root).optimizer.learning_rate\n",
      "WARNING:tensorflow:A checkpoint was restored (e.g. tf.train.Checkpoint.restore or tf.keras.Model.load_weights) but not all checkpointed values were used. See above for specific issues. Use expect_partial() on the load status object, e.g. tf.train.Checkpoint.restore(...).expect_partial(), to silence these warnings, or use assert_consumed() to make the check explicit. See https://www.tensorflow.org/alpha/guide/checkpoints#loading_mechanics for details.\n",
      "Train on 897 samples, validate on 34 samples\n",
      "Epoch 1/20\n",
      "897/897 [==============================] - ETA: 2:54 - loss: 0.262 - ETA: 1:43 - loss: 0.239 - ETA: 1:15 - loss: 0.233 - ETA: 59s - loss: 0.207 - ETA: 48s - loss: 0.18 - ETA: 41s - loss: 0.15 - ETA: 34s - loss: 0.15 - ETA: 28s - loss: 0.13 - ETA: 22s - loss: 0.12 - ETA: 17s - loss: 0.11 - ETA: 13s - loss: 0.11 - ETA: 8s - loss: 0.1053 - ETA: 4s - loss: 0.101 - ETA: 0s - loss: 0.099 - 63s 70ms/sample - loss: 0.0994 - val_loss: 0.4889\n",
      "Epoch 2/20\n",
      "897/897 [==============================] - ETA: 43s - loss: 0.05 - ETA: 41s - loss: 0.04 - ETA: 38s - loss: 0.03 - ETA: 34s - loss: 0.03 - ETA: 31s - loss: 0.03 - ETA: 27s - loss: 0.02 - ETA: 24s - loss: 0.02 - ETA: 21s - loss: 0.02 - ETA: 17s - loss: 0.02 - ETA: 14s - loss: 0.02 - ETA: 10s - loss: 0.02 - ETA: 7s - loss: 0.0240 - ETA: 3s - loss: 0.023 - ETA: 0s - loss: 0.023 - 52s 58ms/sample - loss: 0.0230 - val_loss: 0.1614\n",
      "Epoch 3/20\n",
      "897/897 [==============================] - ETA: 44s - loss: 0.00 - ETA: 41s - loss: 0.01 - ETA: 37s - loss: 0.00 - ETA: 34s - loss: 0.01 - ETA: 30s - loss: 0.01 - ETA: 27s - loss: 0.01 - ETA: 23s - loss: 0.01 - ETA: 20s - loss: 0.01 - ETA: 17s - loss: 0.01 - ETA: 13s - loss: 0.01 - ETA: 10s - loss: 0.01 - ETA: 6s - loss: 0.0106 - ETA: 3s - loss: 0.010 - ETA: 0s - loss: 0.010 - 51s 56ms/sample - loss: 0.0102 - val_loss: 0.0292\n",
      "Epoch 4/20\n",
      "897/897 [==============================] - ETA: 43s - loss: 0.00 - ETA: 41s - loss: 0.00 - ETA: 37s - loss: 0.01 - ETA: 34s - loss: 0.01 - ETA: 30s - loss: 0.01 - ETA: 27s - loss: 0.01 - ETA: 23s - loss: 0.01 - ETA: 20s - loss: 0.01 - ETA: 17s - loss: 0.01 - ETA: 13s - loss: 0.00 - ETA: 10s - loss: 0.01 - ETA: 6s - loss: 0.0101 - ETA: 3s - loss: 0.010 - ETA: 0s - loss: 0.009 - 51s 56ms/sample - loss: 0.0099 - val_loss: 0.0483\n",
      "Epoch 5/20\n",
      "897/897 [==============================] - ETA: 45s - loss: 0.00 - ETA: 41s - loss: 0.00 - ETA: 37s - loss: 0.00 - ETA: 34s - loss: 0.00 - ETA: 30s - loss: 0.00 - ETA: 27s - loss: 0.00 - ETA: 24s - loss: 0.00 - ETA: 20s - loss: 0.00 - ETA: 17s - loss: 0.00 - ETA: 13s - loss: 0.00 - ETA: 10s - loss: 0.00 - ETA: 6s - loss: 0.0070 - ETA: 3s - loss: 0.007 - ETA: 0s - loss: 0.007 - 51s 57ms/sample - loss: 0.0071 - val_loss: 0.0093\n",
      "Epoch 6/20\n",
      "897/897 [==============================] - ETA: 44s - loss: 0.00 - ETA: 41s - loss: 0.00 - ETA: 38s - loss: 0.00 - ETA: 34s - loss: 0.00 - ETA: 31s - loss: 0.00 - ETA: 28s - loss: 0.00 - ETA: 24s - loss: 0.00 - ETA: 21s - loss: 0.00 - ETA: 17s - loss: 0.00 - ETA: 13s - loss: 0.00 - ETA: 10s - loss: 0.00 - ETA: 6s - loss: 0.0064 - ETA: 3s - loss: 0.006 - ETA: 0s - loss: 0.006 - 52s 58ms/sample - loss: 0.0062 - val_loss: 0.0041\n",
      "Epoch 7/20\n",
      "897/897 [==============================] - ETA: 47s - loss: 0.00 - ETA: 43s - loss: 0.00 - ETA: 40s - loss: 0.00 - ETA: 35s - loss: 0.00 - ETA: 31s - loss: 0.00 - ETA: 28s - loss: 0.00 - ETA: 24s - loss: 0.00 - ETA: 20s - loss: 0.00 - ETA: 17s - loss: 0.00 - ETA: 13s - loss: 0.00 - ETA: 10s - loss: 0.00 - ETA: 7s - loss: 0.0049 - ETA: 3s - loss: 0.004 - ETA: 0s - loss: 0.004 - 52s 57ms/sample - loss: 0.0049 - val_loss: 0.0154\n",
      "Epoch 8/20\n",
      "897/897 [==============================] - ETA: 45s - loss: 0.00 - ETA: 41s - loss: 0.00 - ETA: 38s - loss: 0.00 - ETA: 34s - loss: 0.00 - ETA: 31s - loss: 0.00 - ETA: 28s - loss: 0.00 - ETA: 24s - loss: 0.00 - ETA: 20s - loss: 0.00 - ETA: 17s - loss: 0.00 - ETA: 14s - loss: 0.00 - ETA: 10s - loss: 0.00 - ETA: 7s - loss: 0.0049 - ETA: 3s - loss: 0.004 - ETA: 0s - loss: 0.004 - 53s 59ms/sample - loss: 0.0049 - val_loss: 0.0042\n",
      "Epoch 9/20\n",
      "897/897 [==============================] - ETA: 47s - loss: 0.00 - ETA: 43s - loss: 0.00 - ETA: 39s - loss: 0.00 - ETA: 35s - loss: 0.00 - ETA: 31s - loss: 0.00 - ETA: 27s - loss: 0.00 - ETA: 24s - loss: 0.00 - ETA: 20s - loss: 0.00 - ETA: 17s - loss: 0.00 - ETA: 13s - loss: 0.00 - ETA: 10s - loss: 0.00 - ETA: 6s - loss: 0.0059 - ETA: 3s - loss: 0.005 - ETA: 0s - loss: 0.005 - 51s 57ms/sample - loss: 0.0057 - val_loss: 0.0037\n",
      "Epoch 10/20\n",
      "897/897 [==============================] - ETA: 45s - loss: 0.00 - ETA: 42s - loss: 0.00 - ETA: 42s - loss: 0.00 - ETA: 40s - loss: 0.00 - ETA: 36s - loss: 0.00 - ETA: 31s - loss: 0.00 - ETA: 27s - loss: 0.00 - ETA: 23s - loss: 0.00 - ETA: 19s - loss: 0.00 - ETA: 15s - loss: 0.00 - ETA: 11s - loss: 0.00 - ETA: 7s - loss: 0.0073 - ETA: 3s - loss: 0.007 - ETA: 0s - loss: 0.007 - 57s 63ms/sample - loss: 0.0070 - val_loss: 0.0500\n",
      "Epoch 11/20\n",
      "897/897 [==============================] - ETA: 46s - loss: 0.00 - ETA: 42s - loss: 0.00 - ETA: 38s - loss: 0.00 - ETA: 36s - loss: 0.00 - ETA: 32s - loss: 0.00 - ETA: 29s - loss: 0.00 - ETA: 25s - loss: 0.00 - ETA: 21s - loss: 0.00 - ETA: 18s - loss: 0.00 - ETA: 14s - loss: 0.00 - ETA: 10s - loss: 0.00 - ETA: 7s - loss: 0.0068 - ETA: 3s - loss: 0.006 - ETA: 0s - loss: 0.006 - 54s 60ms/sample - loss: 0.0065 - val_loss: 0.0103\n",
      "Epoch 12/20\n",
      "897/897 [==============================] - ETA: 51s - loss: 0.00 - ETA: 44s - loss: 0.00 - ETA: 39s - loss: 0.00 - ETA: 36s - loss: 0.00 - ETA: 32s - loss: 0.00 - ETA: 29s - loss: 0.00 - ETA: 25s - loss: 0.00 - ETA: 22s - loss: 0.00 - ETA: 18s - loss: 0.00 - ETA: 15s - loss: 0.00 - ETA: 11s - loss: 0.00 - ETA: 7s - loss: 0.0049 - ETA: 3s - loss: 0.005 - ETA: 0s - loss: 0.004 - 56s 62ms/sample - loss: 0.0049 - val_loss: 0.0269\n",
      "Epoch 13/20\n",
      "897/897 [==============================] - ETA: 48s - loss: 0.00 - ETA: 46s - loss: 0.00 - ETA: 42s - loss: 0.00 - ETA: 38s - loss: 0.00 - ETA: 35s - loss: 0.00 - ETA: 30s - loss: 0.00 - ETA: 26s - loss: 0.00 - ETA: 22s - loss: 0.00 - ETA: 19s - loss: 0.00 - ETA: 15s - loss: 0.00 - ETA: 11s - loss: 0.00 - ETA: 7s - loss: 0.0054 - ETA: 3s - loss: 0.005 - ETA: 0s - loss: 0.005 - 57s 63ms/sample - loss: 0.0056 - val_loss: 0.0215\n",
      "Epoch 14/20\n",
      "897/897 [==============================] - ETA: 46s - loss: 0.00 - ETA: 43s - loss: 0.00 - ETA: 40s - loss: 0.00 - ETA: 36s - loss: 0.00 - ETA: 33s - loss: 0.00 - ETA: 29s - loss: 0.00 - ETA: 25s - loss: 0.00 - ETA: 21s - loss: 0.00 - ETA: 18s - loss: 0.00 - ETA: 14s - loss: 0.00 - ETA: 11s - loss: 0.00 - ETA: 7s - loss: 0.0051 - ETA: 3s - loss: 0.005 - ETA: 0s - loss: 0.005 - 55s 62ms/sample - loss: 0.0051 - val_loss: 0.0033\n",
      "Epoch 15/20\n",
      "897/897 [==============================] - ETA: 54s - loss: 0.00 - ETA: 47s - loss: 0.00 - ETA: 42s - loss: 0.00 - ETA: 38s - loss: 0.00 - ETA: 35s - loss: 0.00 - ETA: 31s - loss: 0.00 - ETA: 27s - loss: 0.00 - ETA: 22s - loss: 0.00 - ETA: 18s - loss: 0.00 - ETA: 15s - loss: 0.00 - ETA: 11s - loss: 0.00 - ETA: 7s - loss: 0.0071 - ETA: 3s - loss: 0.006 - ETA: 0s - loss: 0.006 - 56s 63ms/sample - loss: 0.0068 - val_loss: 0.0331\n",
      "Epoch 16/20\n",
      "897/897 [==============================] - ETA: 49s - loss: 0.00 - ETA: 44s - loss: 0.00 - ETA: 39s - loss: 0.00 - ETA: 35s - loss: 0.00 - ETA: 32s - loss: 0.00 - ETA: 28s - loss: 0.00 - ETA: 25s - loss: 0.00 - ETA: 21s - loss: 0.00 - ETA: 18s - loss: 0.00 - ETA: 14s - loss: 0.00 - ETA: 11s - loss: 0.00 - ETA: 7s - loss: 0.0048 - ETA: 3s - loss: 0.005 - ETA: 0s - loss: 0.004 - 54s 61ms/sample - loss: 0.0049 - val_loss: 0.0050\n",
      "Epoch 17/20\n"
     ]
    },
    {
     "name": "stdout",
     "output_type": "stream",
     "text": [
      "897/897 [==============================] - ETA: 46s - loss: 0.00 - ETA: 43s - loss: 0.00 - ETA: 38s - loss: 0.00 - ETA: 35s - loss: 0.00 - ETA: 32s - loss: 0.00 - ETA: 29s - loss: 0.00 - ETA: 25s - loss: 0.00 - ETA: 21s - loss: 0.00 - ETA: 18s - loss: 0.00 - ETA: 14s - loss: 0.00 - ETA: 10s - loss: 0.00 - ETA: 7s - loss: 0.0042 - ETA: 3s - loss: 0.004 - ETA: 0s - loss: 0.004 - 54s 60ms/sample - loss: 0.0041 - val_loss: 0.0088\n",
      "Epoch 18/20\n",
      "897/897 [==============================] - ETA: 45s - loss: 0.00 - ETA: 41s - loss: 0.00 - ETA: 38s - loss: 0.00 - ETA: 34s - loss: 0.00 - ETA: 31s - loss: 0.00 - ETA: 28s - loss: 0.00 - ETA: 25s - loss: 0.00 - ETA: 22s - loss: 0.00 - ETA: 18s - loss: 0.00 - ETA: 14s - loss: 0.00 - ETA: 11s - loss: 0.00 - ETA: 7s - loss: 0.0043 - ETA: 3s - loss: 0.004 - ETA: 0s - loss: 0.004 - 54s 61ms/sample - loss: 0.0044 - val_loss: 0.0118\n",
      "Epoch 19/20\n",
      "897/897 [==============================] - ETA: 56s - loss: 0.00 - ETA: 47s - loss: 0.00 - ETA: 42s - loss: 0.00 - ETA: 38s - loss: 0.00 - ETA: 34s - loss: 0.00 - ETA: 30s - loss: 0.00 - ETA: 26s - loss: 0.00 - ETA: 22s - loss: 0.00 - ETA: 18s - loss: 0.00 - ETA: 14s - loss: 0.00 - ETA: 11s - loss: 0.00 - ETA: 7s - loss: 0.0040 - ETA: 3s - loss: 0.003 - ETA: 0s - loss: 0.004 - 54s 61ms/sample - loss: 0.0040 - val_loss: 0.0087\n",
      "Epoch 20/20\n",
      "897/897 [==============================] - ETA: 46s - loss: 0.00 - ETA: 44s - loss: 0.00 - ETA: 41s - loss: 0.00 - ETA: 37s - loss: 0.00 - ETA: 33s - loss: 0.00 - ETA: 30s - loss: 0.00 - ETA: 26s - loss: 0.00 - ETA: 22s - loss: 0.00 - ETA: 18s - loss: 0.00 - ETA: 14s - loss: 0.00 - ETA: 11s - loss: 0.00 - ETA: 7s - loss: 0.0039 - ETA: 3s - loss: 0.003 - ETA: 0s - loss: 0.003 - 55s 61ms/sample - loss: 0.0039 - val_loss: 0.0251\n"
     ]
    },
    {
     "data": {
      "text/html": [
       "<span style=\"color:#4527A0\"><h1 style=\"font-size:18px\">Trial complete</h1></span>"
      ],
      "text/plain": [
       "<IPython.core.display.HTML object>"
      ]
     },
     "metadata": {},
     "output_type": "display_data"
    },
    {
     "data": {
      "text/html": [
       "<span style=\"color:#4527A0\"><h1 style=\"font-size:18px\">Trial summary</h1></span>"
      ],
      "text/plain": [
       "<IPython.core.display.HTML object>"
      ]
     },
     "metadata": {},
     "output_type": "display_data"
    },
    {
     "data": {
      "text/html": [
       "<span style=\"color:cyan\"> |-Trial ID: c35d0cbd0a7e3d638b3f4d431e447e4e</span>"
      ],
      "text/plain": [
       "<IPython.core.display.HTML object>"
      ]
     },
     "metadata": {},
     "output_type": "display_data"
    },
    {
     "data": {
      "text/html": [
       "<span style=\"color:cyan\"> |-Score: 0.0032974109053611755</span>"
      ],
      "text/plain": [
       "<IPython.core.display.HTML object>"
      ]
     },
     "metadata": {},
     "output_type": "display_data"
    },
    {
     "data": {
      "text/html": [
       "<span style=\"color:cyan\"> |-Best step: 0</span>"
      ],
      "text/plain": [
       "<IPython.core.display.HTML object>"
      ]
     },
     "metadata": {},
     "output_type": "display_data"
    },
    {
     "data": {
      "text/html": [
       "<span style=\"color:#7E57C2\"><h2 style=\"font-size:16px\">Hyperparameters:</h2></span>"
      ],
      "text/plain": [
       "<IPython.core.display.HTML object>"
      ]
     },
     "metadata": {},
     "output_type": "display_data"
    },
    {
     "data": {
      "text/html": [
       "<span style=\"color:cyan\"> |-dropout: 0.2</span>"
      ],
      "text/plain": [
       "<IPython.core.display.HTML object>"
      ]
     },
     "metadata": {},
     "output_type": "display_data"
    },
    {
     "data": {
      "text/html": [
       "<span style=\"color:blue\"> |-input_units: 100</span>"
      ],
      "text/plain": [
       "<IPython.core.display.HTML object>"
      ]
     },
     "metadata": {},
     "output_type": "display_data"
    },
    {
     "name": "stdout",
     "output_type": "stream",
     "text": [
      "INFO:tensorflow:Oracle triggered exit\n"
     ]
    },
    {
     "data": {
      "image/png": "[encoded data removed]",
      "text/plain": [
       "<Figure size 1008x360 with 1 Axes>"
      ]
     },
     "metadata": {},
     "output_type": "display_data"
    },
    {
     "name": "stdout",
     "output_type": "stream",
     "text": [
      "WARNING:tensorflow:Unresolved object in checkpoint: (root).optimizer.iter\n",
      "WARNING:tensorflow:Unresolved object in checkpoint: (root).optimizer.beta_1\n",
      "WARNING:tensorflow:Unresolved object in checkpoint: (root).optimizer.beta_2\n",
      "WARNING:tensorflow:Unresolved object in checkpoint: (root).optimizer.decay\n",
      "WARNING:tensorflow:Unresolved object in checkpoint: (root).optimizer.learning_rate\n",
      "WARNING:tensorflow:A checkpoint was restored (e.g. tf.train.Checkpoint.restore or tf.keras.Model.load_weights) but not all checkpointed values were used. See above for specific issues. Use expect_partial() on the load status object, e.g. tf.train.Checkpoint.restore(...).expect_partial(), to silence these warnings, or use assert_consumed() to make the check explicit. See https://www.tensorflow.org/alpha/guide/checkpoints#loading_mechanics for details.\n",
      "Train on 897 samples, validate on 34 samples\n",
      "Epoch 1/20\n",
      "897/897 [==============================] - ETA: 3:01 - loss: 0.240 - ETA: 1:44 - loss: 0.235 - ETA: 1:17 - loss: 0.212 - ETA: 1:01 - loss: 0.188 - ETA: 50s - loss: 0.160 - ETA: 42s - loss: 0.13 - ETA: 36s - loss: 0.13 - ETA: 30s - loss: 0.12 - ETA: 24s - loss: 0.10 - ETA: 19s - loss: 0.10 - ETA: 14s - loss: 0.09 - ETA: 9s - loss: 0.0920 - ETA: 4s - loss: 0.089 - ETA: 0s - loss: 0.086 - 72s 80ms/sample - loss: 0.0864 - val_loss: 0.4350\n",
      "Epoch 2/20\n",
      "897/897 [==============================] - ETA: 47s - loss: 0.03 - ETA: 42s - loss: 0.03 - ETA: 39s - loss: 0.03 - ETA: 35s - loss: 0.03 - ETA: 31s - loss: 0.02 - ETA: 28s - loss: 0.02 - ETA: 25s - loss: 0.02 - ETA: 21s - loss: 0.02 - ETA: 18s - loss: 0.02 - ETA: 14s - loss: 0.02 - ETA: 10s - loss: 0.02 - ETA: 7s - loss: 0.0240 - ETA: 3s - loss: 0.023 - ETA: 0s - loss: 0.022 - 54s 60ms/sample - loss: 0.0227 - val_loss: 0.2307\n",
      "Epoch 3/20\n",
      "897/897 [==============================] - ETA: 1:00 - loss: 0.017 - ETA: 55s - loss: 0.019 - ETA: 48s - loss: 0.02 - ETA: 41s - loss: 0.02 - ETA: 36s - loss: 0.01 - ETA: 32s - loss: 0.01 - ETA: 28s - loss: 0.01 - ETA: 24s - loss: 0.01 - ETA: 20s - loss: 0.01 - ETA: 16s - loss: 0.01 - ETA: 12s - loss: 0.01 - ETA: 8s - loss: 0.0150 - ETA: 4s - loss: 0.015 - ETA: 0s - loss: 0.014 - 59s 66ms/sample - loss: 0.0145 - val_loss: 0.0536\n",
      "Epoch 4/20\n",
      "897/897 [==============================] - ETA: 44s - loss: 0.00 - ETA: 40s - loss: 0.00 - ETA: 37s - loss: 0.00 - ETA: 33s - loss: 0.00 - ETA: 30s - loss: 0.00 - ETA: 28s - loss: 0.00 - ETA: 25s - loss: 0.00 - ETA: 21s - loss: 0.00 - ETA: 18s - loss: 0.00 - ETA: 14s - loss: 0.00 - ETA: 11s - loss: 0.00 - ETA: 7s - loss: 0.0076 - ETA: 3s - loss: 0.007 - ETA: 0s - loss: 0.007 - 55s 62ms/sample - loss: 0.0076 - val_loss: 0.0335\n",
      "Epoch 5/20\n",
      "897/897 [==============================] - ETA: 52s - loss: 0.00 - ETA: 46s - loss: 0.00 - ETA: 41s - loss: 0.00 - ETA: 37s - loss: 0.00 - ETA: 33s - loss: 0.00 - ETA: 29s - loss: 0.00 - ETA: 25s - loss: 0.00 - ETA: 21s - loss: 0.00 - ETA: 18s - loss: 0.00 - ETA: 14s - loss: 0.00 - ETA: 10s - loss: 0.00 - ETA: 7s - loss: 0.0063 - ETA: 3s - loss: 0.006 - ETA: 0s - loss: 0.006 - 53s 59ms/sample - loss: 0.0064 - val_loss: 0.0077\n",
      "Epoch 6/20\n",
      "897/897 [==============================] - ETA: 46s - loss: 0.00 - ETA: 42s - loss: 0.00 - ETA: 38s - loss: 0.00 - ETA: 35s - loss: 0.00 - ETA: 32s - loss: 0.00 - ETA: 29s - loss: 0.00 - ETA: 26s - loss: 0.00 - ETA: 22s - loss: 0.00 - ETA: 18s - loss: 0.00 - ETA: 15s - loss: 0.00 - ETA: 11s - loss: 0.00 - ETA: 7s - loss: 0.0064 - ETA: 3s - loss: 0.006 - ETA: 0s - loss: 0.006 - 55s 61ms/sample - loss: 0.0065 - val_loss: 0.0112\n",
      "Epoch 7/20\n",
      "897/897 [==============================] - ETA: 47s - loss: 0.00 - ETA: 43s - loss: 0.00 - ETA: 40s - loss: 0.00 - ETA: 36s - loss: 0.00 - ETA: 32s - loss: 0.00 - ETA: 28s - loss: 0.00 - ETA: 25s - loss: 0.00 - ETA: 21s - loss: 0.00 - ETA: 18s - loss: 0.00 - ETA: 14s - loss: 0.00 - ETA: 10s - loss: 0.00 - ETA: 7s - loss: 0.0056 - ETA: 3s - loss: 0.005 - ETA: 0s - loss: 0.005 - 53s 59ms/sample - loss: 0.0057 - val_loss: 0.0046\n",
      "Epoch 8/20\n",
      "897/897 [==============================] - ETA: 44s - loss: 0.00 - ETA: 42s - loss: 0.00 - ETA: 38s - loss: 0.00 - ETA: 35s - loss: 0.00 - ETA: 32s - loss: 0.00 - ETA: 29s - loss: 0.00 - ETA: 25s - loss: 0.00 - ETA: 22s - loss: 0.00 - ETA: 18s - loss: 0.00 - ETA: 14s - loss: 0.00 - ETA: 11s - loss: 0.00 - ETA: 7s - loss: 0.0052 - ETA: 3s - loss: 0.005 - ETA: 0s - loss: 0.005 - 56s 62ms/sample - loss: 0.0054 - val_loss: 0.0185\n",
      "Epoch 9/20\n",
      "897/897 [==============================] - ETA: 47s - loss: 0.00 - ETA: 43s - loss: 0.01 - ETA: 39s - loss: 0.01 - ETA: 35s - loss: 0.01 - ETA: 32s - loss: 0.01 - ETA: 28s - loss: 0.01 - ETA: 24s - loss: 0.01 - ETA: 21s - loss: 0.01 - ETA: 17s - loss: 0.01 - ETA: 14s - loss: 0.01 - ETA: 10s - loss: 0.01 - ETA: 7s - loss: 0.0109 - ETA: 3s - loss: 0.010 - ETA: 0s - loss: 0.010 - 52s 58ms/sample - loss: 0.0106 - val_loss: 0.0067\n",
      "Epoch 10/20\n",
      "897/897 [==============================] - ETA: 47s - loss: 0.00 - ETA: 43s - loss: 0.00 - ETA: 40s - loss: 0.00 - ETA: 37s - loss: 0.00 - ETA: 33s - loss: 0.00 - ETA: 29s - loss: 0.00 - ETA: 25s - loss: 0.00 - ETA: 22s - loss: 0.00 - ETA: 18s - loss: 0.00 - ETA: 14s - loss: 0.00 - ETA: 11s - loss: 0.00 - ETA: 7s - loss: 0.0066 - ETA: 3s - loss: 0.006 - ETA: 0s - loss: 0.006 - 55s 61ms/sample - loss: 0.0064 - val_loss: 0.0093\n",
      "Epoch 11/20\n",
      "897/897 [==============================] - ETA: 48s - loss: 0.00 - ETA: 43s - loss: 0.00 - ETA: 39s - loss: 0.00 - ETA: 35s - loss: 0.00 - ETA: 31s - loss: 0.00 - ETA: 27s - loss: 0.00 - ETA: 24s - loss: 0.00 - ETA: 21s - loss: 0.00 - ETA: 17s - loss: 0.00 - ETA: 14s - loss: 0.00 - ETA: 10s - loss: 0.00 - ETA: 7s - loss: 0.0053 - ETA: 3s - loss: 0.005 - ETA: 0s - loss: 0.005 - 52s 58ms/sample - loss: 0.0052 - val_loss: 0.0058\n",
      "Epoch 12/20\n",
      "897/897 [==============================] - ETA: 44s - loss: 0.00 - ETA: 41s - loss: 0.00 - ETA: 37s - loss: 0.01 - ETA: 34s - loss: 0.01 - ETA: 31s - loss: 0.00 - ETA: 28s - loss: 0.00 - ETA: 24s - loss: 0.00 - ETA: 21s - loss: 0.01 - ETA: 17s - loss: 0.01 - ETA: 14s - loss: 0.00 - ETA: 10s - loss: 0.00 - ETA: 7s - loss: 0.0089 - ETA: 3s - loss: 0.008 - ETA: 0s - loss: 0.008 - 53s 59ms/sample - loss: 0.0084 - val_loss: 0.0767\n",
      "Epoch 13/20\n",
      "897/897 [==============================] - ETA: 45s - loss: 0.00 - ETA: 42s - loss: 0.01 - ETA: 38s - loss: 0.01 - ETA: 35s - loss: 0.02 - ETA: 31s - loss: 0.02 - ETA: 28s - loss: 0.02 - ETA: 24s - loss: 0.02 - ETA: 21s - loss: 0.01 - ETA: 17s - loss: 0.01 - ETA: 14s - loss: 0.01 - ETA: 10s - loss: 0.01 - ETA: 7s - loss: 0.0173 - ETA: 3s - loss: 0.017 - ETA: 0s - loss: 0.016 - 53s 59ms/sample - loss: 0.0166 - val_loss: 0.1125\n",
      "Epoch 14/20\n",
      "897/897 [==============================] - ETA: 44s - loss: 0.01 - ETA: 41s - loss: 0.01 - ETA: 38s - loss: 0.01 - ETA: 34s - loss: 0.01 - ETA: 31s - loss: 0.01 - ETA: 27s - loss: 0.01 - ETA: 24s - loss: 0.01 - ETA: 20s - loss: 0.01 - ETA: 17s - loss: 0.01 - ETA: 13s - loss: 0.01 - ETA: 10s - loss: 0.01 - ETA: 6s - loss: 0.0105 - ETA: 3s - loss: 0.010 - ETA: 0s - loss: 0.009 - 51s 57ms/sample - loss: 0.0098 - val_loss: 0.0419\n",
      "Epoch 15/20\n",
      "897/897 [==============================] - ETA: 47s - loss: 0.00 - ETA: 43s - loss: 0.00 - ETA: 39s - loss: 0.00 - ETA: 35s - loss: 0.00 - ETA: 32s - loss: 0.00 - ETA: 28s - loss: 0.00 - ETA: 25s - loss: 0.00 - ETA: 21s - loss: 0.00 - ETA: 17s - loss: 0.00 - ETA: 14s - loss: 0.00 - ETA: 10s - loss: 0.00 - ETA: 7s - loss: 0.0058 - ETA: 3s - loss: 0.005 - ETA: 0s - loss: 0.005 - 53s 59ms/sample - loss: 0.0056 - val_loss: 0.0061\n",
      "Epoch 16/20\n",
      "897/897 [==============================] - ETA: 46s - loss: 0.00 - ETA: 42s - loss: 0.00 - ETA: 38s - loss: 0.00 - ETA: 35s - loss: 0.00 - ETA: 31s - loss: 0.00 - ETA: 28s - loss: 0.00 - ETA: 24s - loss: 0.00 - ETA: 21s - loss: 0.00 - ETA: 17s - loss: 0.00 - ETA: 14s - loss: 0.00 - ETA: 10s - loss: 0.00 - ETA: 7s - loss: 0.0050 - ETA: 3s - loss: 0.005 - ETA: 0s - loss: 0.005 - 52s 58ms/sample - loss: 0.0052 - val_loss: 0.0052\n",
      "Epoch 17/20\n"
     ]
    },
    {
     "name": "stdout",
     "output_type": "stream",
     "text": [
      "897/897 [==============================] - ETA: 50s - loss: 0.00 - ETA: 46s - loss: 0.00 - ETA: 41s - loss: 0.00 - ETA: 38s - loss: 0.00 - ETA: 35s - loss: 0.00 - ETA: 31s - loss: 0.00 - ETA: 27s - loss: 0.00 - ETA: 24s - loss: 0.00 - ETA: 20s - loss: 0.00 - ETA: 16s - loss: 0.00 - ETA: 12s - loss: 0.00 - ETA: 8s - loss: 0.0065 - ETA: 4s - loss: 0.006 - ETA: 0s - loss: 0.006 - 61s 67ms/sample - loss: 0.0065 - val_loss: 0.0132\n",
      "Epoch 18/20\n",
      "897/897 [==============================] - ETA: 49s - loss: 0.00 - ETA: 44s - loss: 0.00 - ETA: 40s - loss: 0.00 - ETA: 36s - loss: 0.00 - ETA: 32s - loss: 0.00 - ETA: 28s - loss: 0.00 - ETA: 25s - loss: 0.00 - ETA: 21s - loss: 0.00 - ETA: 18s - loss: 0.00 - ETA: 14s - loss: 0.00 - ETA: 10s - loss: 0.00 - ETA: 7s - loss: 0.0047 - ETA: 3s - loss: 0.004 - ETA: 0s - loss: 0.004 - 53s 59ms/sample - loss: 0.0045 - val_loss: 0.0110\n",
      "Epoch 19/20\n",
      "897/897 [==============================] - ETA: 49s - loss: 0.00 - ETA: 45s - loss: 0.00 - ETA: 41s - loss: 0.00 - ETA: 37s - loss: 0.00 - ETA: 34s - loss: 0.00 - ETA: 30s - loss: 0.00 - ETA: 26s - loss: 0.00 - ETA: 22s - loss: 0.00 - ETA: 18s - loss: 0.00 - ETA: 14s - loss: 0.00 - ETA: 11s - loss: 0.00 - ETA: 7s - loss: 0.0043 - ETA: 3s - loss: 0.004 - ETA: 0s - loss: 0.004 - 54s 60ms/sample - loss: 0.0043 - val_loss: 0.0099\n",
      "Epoch 20/20\n",
      "897/897 [==============================] - ETA: 45s - loss: 0.00 - ETA: 41s - loss: 0.00 - ETA: 37s - loss: 0.00 - ETA: 34s - loss: 0.00 - ETA: 31s - loss: 0.00 - ETA: 27s - loss: 0.00 - ETA: 24s - loss: 0.00 - ETA: 21s - loss: 0.00 - ETA: 17s - loss: 0.00 - ETA: 13s - loss: 0.00 - ETA: 10s - loss: 0.00 - ETA: 6s - loss: 0.0044 - ETA: 3s - loss: 0.004 - ETA: 0s - loss: 0.004 - 52s 58ms/sample - loss: 0.0045 - val_loss: 0.0176\n"
     ]
    },
    {
     "data": {
      "text/html": [
       "<span style=\"color:#4527A0\"><h1 style=\"font-size:18px\">Trial complete</h1></span>"
      ],
      "text/plain": [
       "<IPython.core.display.HTML object>"
      ]
     },
     "metadata": {},
     "output_type": "display_data"
    },
    {
     "data": {
      "text/html": [
       "<span style=\"color:#4527A0\"><h1 style=\"font-size:18px\">Trial summary</h1></span>"
      ],
      "text/plain": [
       "<IPython.core.display.HTML object>"
      ]
     },
     "metadata": {},
     "output_type": "display_data"
    },
    {
     "data": {
      "text/html": [
       "<span style=\"color:cyan\"> |-Trial ID: 4f736780ac85fce7b3dec096d8a20fbf</span>"
      ],
      "text/plain": [
       "<IPython.core.display.HTML object>"
      ]
     },
     "metadata": {},
     "output_type": "display_data"
    },
    {
     "data": {
      "text/html": [
       "<span style=\"color:cyan\"> |-Score: 0.004640138708055019</span>"
      ],
      "text/plain": [
       "<IPython.core.display.HTML object>"
      ]
     },
     "metadata": {},
     "output_type": "display_data"
    },
    {
     "data": {
      "text/html": [
       "<span style=\"color:cyan\"> |-Best step: 0</span>"
      ],
      "text/plain": [
       "<IPython.core.display.HTML object>"
      ]
     },
     "metadata": {},
     "output_type": "display_data"
    },
    {
     "data": {
      "text/html": [
       "<span style=\"color:#7E57C2\"><h2 style=\"font-size:16px\">Hyperparameters:</h2></span>"
      ],
      "text/plain": [
       "<IPython.core.display.HTML object>"
      ]
     },
     "metadata": {},
     "output_type": "display_data"
    },
    {
     "data": {
      "text/html": [
       "<span style=\"color:cyan\"> |-dropout: 0.2</span>"
      ],
      "text/plain": [
       "<IPython.core.display.HTML object>"
      ]
     },
     "metadata": {},
     "output_type": "display_data"
    },
    {
     "data": {
      "text/html": [
       "<span style=\"color:blue\"> |-input_units: 100</span>"
      ],
      "text/plain": [
       "<IPython.core.display.HTML object>"
      ]
     },
     "metadata": {},
     "output_type": "display_data"
    },
    {
     "name": "stdout",
     "output_type": "stream",
     "text": [
      "INFO:tensorflow:Oracle triggered exit\n"
     ]
    },
    {
     "data": {
      "image/png": "[encoded data removed]",
      "text/plain": [
       "<Figure size 1008x360 with 1 Axes>"
      ]
     },
     "metadata": {},
     "output_type": "display_data"
    }
   ],
   "source": [
    "#For loop to train model and test model on data with feature selection using PCA and one without. \n",
    "for count,i in enumerate([drop_list,[\"Adj Close\"]]):\n",
    "    #Dropping columns that have less importance as per PCA or dropping just Adj Close.\n",
    "    training_data1= training_data.drop(columns=i)\n",
    "    #Create one scaler for x values and one for y values.\n",
    "    scalerx=MinMaxScaler()\n",
    "    scalery=MinMaxScaler()\n",
    "    #Fit the data to the scalers. \n",
    "    training_x= scalerx.fit_transform(training_data1)\n",
    "    training_y= scalery.fit_transform(np.array(training_data[\"Close\"]).reshape(-1,1))\n",
    "\n",
    "    #Append n days of data to a list, and append the price of the n+1 day to a list iteratively. \n",
    "    X_train=[]\n",
    "    y_train = []\n",
    "    for n in range(300, len(training_x)):\n",
    "        X_train.append(training_x[n-300:n])\n",
    "        y_train.append(training_y[n])\n",
    "    \n",
    "    #Convert X_train and y_train into numpy arrays\n",
    "    X_train, y_train = np.array(X_train), np.array(y_train)\n",
    "\n",
    "    #Format the test data to predict the prices of 32 days, based on their respective pools of 200 days of data.\n",
    "    past_data=training_data.tail(300)\n",
    "    test_set = pd.concat([past_data,test_data])\n",
    "    test_set.drop(columns=i,inplace=True)\n",
    "\n",
    "    #Scale the test data\n",
    "    scaled_x_test= scalerx.transform(test_set)\n",
    "    scaled_y_test= scalery.transform(np.array(test_set[\"Close\"]).reshape(-1,1))\n",
    "\n",
    "    X_test=[]\n",
    "    y_test=[]\n",
    "\n",
    "    #Append n days of data to a list, and append the price of the n+1 day to a list iteratively.\n",
    "    for d in range(300,len(scaled_x_test)):\n",
    "        X_test.append(scaled_x_test[d-300:d])\n",
    "        y_test.append(scaled_y_test[d])\n",
    "    \n",
    "    X_test, y_test = np.array(X_test), np.array(y_test)\n",
    "    \n",
    "    #Set different values for units and dropout to be optimized by Keras tuner\n",
    "    def build_regressor(hp):\n",
    "        regressor= Sequential()\n",
    "    \n",
    "        regressor.add(LSTM(hp.Int(\"input_units\", 80, 120, 20), activation = \"relu\", return_sequences=True, input_shape=(X_train.shape[1],X_train.shape[2])))\n",
    "        regressor.add(Dropout(hp.Float('dropout',0,0.5,.1)))\n",
    "\n",
    "        regressor.add(LSTM(hp.Int(\"input_units\", 80, 140, 20), activation = \"relu\", return_sequences=True))\n",
    "        regressor.add(Dropout(hp.Float('dropout',0,0.5,.1)))\n",
    "\n",
    "        regressor.add(LSTM(hp.Int(\"input_units\", 80, 160, 20), activation = \"relu\", return_sequences=True))\n",
    "        regressor.add(Dropout(hp.Float('dropout',0,0.5,.1)))\n",
    "    \n",
    "        regressor.add(LSTM(hp.Int(\"input_units\", 80, 180, 20), activation = \"relu\"))\n",
    "        regressor.add(Dropout(hp.Float('dropout',0,0.5,.1)))\n",
    "\n",
    " \n",
    "        regressor.add(Dense(units=1))\n",
    "    \n",
    "        regressor.compile(optimizer='adam', loss='mean_squared_error')\n",
    "    \n",
    "        return regressor\n",
    "    \n",
    "    #Create tuner to optimize for loss on validation data. \n",
    "    tuner = RandomSearch(\n",
    "        build_regressor,\n",
    "        objective=\"val_loss\",\n",
    "        max_trials=1,\n",
    "        executions_per_trial = 1,\n",
    "        directory=time.time()\n",
    "        )\n",
    "    tuner.search(x=X_train,y=y_train, epochs=20, batch_size=64,validation_data=(X_test, y_test))\n",
    "    \n",
    "    # Predict price using the best model\n",
    "    predict=tuner.get_best_models()[0].predict(X_test)\n",
    "    \n",
    "    #Extract dates to use for X values in plot.\n",
    "    dates=test_set.index[-len(test_data):]\n",
    "    \n",
    "    #Plot predicted price aganist actual price\n",
    "    plt.style.use('fivethirtyeight')\n",
    "    plt.figure(figsize=(14,5))\n",
    "    plt.plot(dates,scalery.inverse_transform(predict), color=\"red\", label=\"Predicted\")\n",
    "    plt.plot(dates,scalery.inverse_transform(y_test), color=\"blue\", label=\"Actual Price\")\n",
    "    plt.legend()\n",
    "    plt.xlabel(\"Date\")\n",
    "    plt.ylabel(\"Closing Price ($USD)\")\n",
    "    if count==0:\n",
    "          plt.title(f\"Predicted {stock} PCA\")\n",
    "    else:\n",
    "          plt.title(f\"Predicted {stock} Non-PCA\")\n",
    "    plt.show()\n",
    "    "
   ]
  },
  {
   "cell_type": "markdown",
   "metadata": {},
   "source": [
    "## Single Day Price Predictor Using Best Model"
   ]
  },
  {
   "cell_type": "code",
   "execution_count": 24,
   "metadata": {},
   "outputs": [
    {
     "name": "stderr",
     "output_type": "stream",
     "text": [
      "/Users/brandonbracho/opt/anaconda3/lib/python3.7/site-packages/pandas/core/frame.py:3997: SettingWithCopyWarning: \n",
      "A value is trying to be set on a copy of a slice from a DataFrame\n",
      "\n",
      "See the caveats in the documentation: https://pandas.pydata.org/pandas-docs/stable/user_guide/indexing.html#returning-a-view-versus-a-copy\n",
      "  errors=errors,\n"
     ]
    },
    {
     "name": "stdout",
     "output_type": "stream",
     "text": [
      "WARNING:tensorflow:Unresolved object in checkpoint: (root).optimizer.iter\n",
      "WARNING:tensorflow:Unresolved object in checkpoint: (root).optimizer.beta_1\n",
      "WARNING:tensorflow:Unresolved object in checkpoint: (root).optimizer.beta_2\n",
      "WARNING:tensorflow:Unresolved object in checkpoint: (root).optimizer.decay\n",
      "WARNING:tensorflow:Unresolved object in checkpoint: (root).optimizer.learning_rate\n",
      "WARNING:tensorflow:A checkpoint was restored (e.g. tf.train.Checkpoint.restore or tf.keras.Model.load_weights) but not all checkpointed values were used. See above for specific issues. Use expect_partial() on the load status object, e.g. tf.train.Checkpoint.restore(...).expect_partial(), to silence these warnings, or use assert_consumed() to make the check explicit. See https://www.tensorflow.org/alpha/guide/checkpoints#loading_mechanics for details.\n"
     ]
    },
    {
     "data": {
      "text/plain": [
       "2197.2375"
      ]
     },
     "execution_count": 24,
     "metadata": {},
     "output_type": "execute_result"
    }
   ],
   "source": [
    "#Function to predict price. Takes date to be predicted as an input and uses Non-PCA model to make prediction.\n",
    "\n",
    "df.reset_index(inplace=True)\n",
    "def predictor(date):\n",
    "    enddate=(df[df[\"Date\"]==pd.to_datetime(date)].index[0])\n",
    "    startdate=enddate-300\n",
    "    newdf=df.loc[startdate:enddate-1,:]\n",
    "    newdf.drop(columns=[\"Adj Close\"],inplace=True)\n",
    "    newdf.drop(columns=\"Date\",inplace=True)\n",
    "    scaledpredict=scalerx.transform(np.array(newdf))\n",
    "    scaledpredict=scaledpredict.reshape(1,300,newdf.shape[1])\n",
    "    predicted=tuner.get_best_models()[0].predict(scaledpredict)\n",
    "    return scalery.inverse_transform(predicted)[0][0]\n",
    "predictor(\"2021-02-22\")"
   ]
  },
  {
   "cell_type": "code",
   "execution_count": null,
   "metadata": {},
   "outputs": [],
   "source": []
  },
  {
   "cell_type": "code",
   "execution_count": null,
   "metadata": {},
   "outputs": [],
   "source": []
  },
  {
   "cell_type": "code",
   "execution_count": null,
   "metadata": {},
   "outputs": [],
   "source": []
  },
  {
   "cell_type": "code",
   "execution_count": null,
   "metadata": {},
   "outputs": [],
   "source": []
  },
  {
   "cell_type": "code",
   "execution_count": null,
   "metadata": {},
   "outputs": [],
   "source": []
  },
  {
   "cell_type": "code",
   "execution_count": null,
   "metadata": {},
   "outputs": [],
   "source": []
  },
  {
   "cell_type": "code",
   "execution_count": null,
   "metadata": {},
   "outputs": [],
   "source": []
  },
  {
   "cell_type": "code",
   "execution_count": null,
   "metadata": {},
   "outputs": [],
   "source": []
  },
  {
   "cell_type": "code",
   "execution_count": null,
   "metadata": {},
   "outputs": [],
   "source": [
    "\n",
    "\n"
   ]
  },
  {
   "cell_type": "code",
   "execution_count": null,
   "metadata": {},
   "outputs": [],
   "source": []
  },
  {
   "cell_type": "code",
   "execution_count": null,
   "metadata": {},
   "outputs": [],
   "source": []
  },
  {
   "cell_type": "code",
   "execution_count": null,
   "metadata": {},
   "outputs": [],
   "source": []
  },
  {
   "cell_type": "code",
   "execution_count": null,
   "metadata": {},
   "outputs": [],
   "source": []
  },
  {
   "cell_type": "code",
   "execution_count": null,
   "metadata": {},
   "outputs": [],
   "source": []
  },
  {
   "cell_type": "code",
   "execution_count": null,
   "metadata": {},
   "outputs": [],
   "source": []
  },
  {
   "cell_type": "code",
   "execution_count": null,
   "metadata": {},
   "outputs": [],
   "source": []
  }
 ],
 "metadata": {
  "kernelspec": {
   "display_name": "Python 3",
   "language": "python",
   "name": "python3"
  },
  "language_info": {
   "codemirror_mode": {
    "name": "ipython",
    "version": 3
   },
   "file_extension": ".py",
   "mimetype": "text/x-python",
   "name": "python",
   "nbconvert_exporter": "python",
   "pygments_lexer": "ipython3",
   "version": "3.7.6"
  }
 },
 "nbformat": 4,
 "nbformat_minor": 4
}
